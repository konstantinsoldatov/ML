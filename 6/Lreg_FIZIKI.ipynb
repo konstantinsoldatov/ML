{
 "cells": [
  {
   "cell_type": "code",
   "execution_count": 1,
   "id": "2d2d73cd-015c-41f0-bad6-a52c8c660f90",
   "metadata": {},
   "outputs": [],
   "source": [
    "import numpy as np\n",
    "import matplotlib.pyplot as plt"
   ]
  },
  {
   "cell_type": "code",
   "execution_count": 2,
   "id": "bc641533-d3d5-43d9-ade9-b346e482b0e0",
   "metadata": {},
   "outputs": [],
   "source": [
    "class LinearRegression:\n",
    "    \n",
    "    def __init__(self, learning_rate=0.01, n_iters=10000):\n",
    "     \n",
    "        self.learning_rate = learning_rate\n",
    "        self.n_iters = n_iters\n",
    "        self.weights = None\n",
    "        self.bias = None\n",
    "\n",
    "    def fit(self, X, y):\n",
    "      \n",
    "        n_samples, n_features = X.shape\n",
    "\n",
    "        # Инициализация весов и смещения нулями\n",
    "        self.weights = np.zeros(n_features)\n",
    "        self.bias = 0\n",
    "\n",
    "        # Градиентный спуск\n",
    "        for i in range(self.n_iters):\n",
    "            # Предсказание\n",
    "            y_pred = np.dot(X, self.weights) + self.bias\n",
    "\n",
    "            # Вычисление градиентов\n",
    "            dw = (-1 / n_samples) * np.dot(X.T, (y- y_pred))  # Градиент по весам\n",
    "            db = (-1 / n_samples) * np.sum(y - y_pred )         # Градиент по смещению\n",
    "\n",
    "            # Обновление весов и смещения\n",
    "            self.weights -= self.learning_rate * dw\n",
    "            self.bias -= self.learning_rate * db\n",
    "\n",
    "    def predict(self, X):\n",
    "     \n",
    "        return np.dot(X, self.weights) + self.bias\n",
    "\n",
    "    def accuracy(self, y_true, y_pred, threshold=0.1):\n",
    "        correct = np.sum(np.abs(y_true - y_pred) < threshold)\n",
    "        total = len(y_true)\n",
    "        return (correct / total) * 100"
   ]
  },
  {
   "cell_type": "code",
   "execution_count": 7,
   "id": "bc7080f6-2a0e-4ee3-b9a8-dab2e10826ad",
   "metadata": {},
   "outputs": [],
   "source": [
    "from sklearn.datasets import fetch_california_housing\n",
    "california = fetch_california_housing()"
   ]
  },
  {
   "cell_type": "code",
   "execution_count": 8,
   "id": "a2ee53a0-8412-46ca-b419-1e7914499718",
   "metadata": {},
   "outputs": [],
   "source": [
    "from sklearn.model_selection import train_test_split\n",
    "X_train, X_test, Y_train, Y_test = train_test_split(california['data'], california['target'], random_state = 12)"
   ]
  },
  {
   "cell_type": "code",
   "execution_count": 9,
   "id": "aea87c36-ea7c-40c6-8d69-f9dd180f1123",
   "metadata": {},
   "outputs": [
    {
     "name": "stdout",
     "output_type": "stream",
     "text": [
      "Точность на обучающих данных: 63.88%\n"
     ]
    }
   ],
   "source": [
    "model2 = LinearRegression(learning_rate=0.0000001, n_iters=4000)\n",
    "model2.fit(X_train, Y_train)\n",
    "y_pred = model2.predict(X_test)\n",
    "acc = model2.accuracy(y_pred, Y_test,threshold=1)\n",
    "print(f\"Точность на обучающих данных: {acc:.2f}%\")"
   ]
  }
 ],
 "metadata": {
  "kernelspec": {
   "display_name": "Python 3 (ipykernel)",
   "language": "python",
   "name": "python3"
  },
  "language_info": {
   "codemirror_mode": {
    "name": "ipython",
    "version": 3
   },
   "file_extension": ".py",
   "mimetype": "text/x-python",
   "name": "python",
   "nbconvert_exporter": "python",
   "pygments_lexer": "ipython3",
   "version": "3.12.4"
  }
 },
 "nbformat": 4,
 "nbformat_minor": 5
}
