{
 "cells": [
  {
   "cell_type": "markdown",
   "id": "a19e1c1b-0f13-4915-b55c-4869a4577119",
   "metadata": {},
   "source": [
    "1.**Абстракция** - упрощенное описание сложных процессов / систем / задач, посредством выделения и описания их ключевых свойств\n",
    "\n",
    "Класс есть набор атрибутов и методов\n",
    "\n",
    "2.**Инкапсуляция** - скрытие внутренней реализации объекта(класса), доступ к атрибутам и их изменению только через методы.\n",
    "Клиент-серверный подход, посредством приватных и публичных атрибутов. Работа с приватными атрибутами осуществляется посредством геттеров и сеттеров\n",
    "\n",
    "3.**Наследование** - наследование атрибутов и методов от родительского класса\n",
    "\n",
    "4.**Полиморфизм** - перегрузка методов в зависимости от принадлежности объекта к классу"
   ]
  },
  {
   "cell_type": "code",
   "execution_count": 2,
   "id": "85fb5116-ab4c-4104-970f-d6439207d027",
   "metadata": {},
   "outputs": [
    {
     "data": {
      "text/plain": [
       "'Ivan'"
      ]
     },
     "execution_count": 2,
     "metadata": {},
     "output_type": "execute_result"
    }
   ],
   "source": [
    "# from person import Person\n",
    "class Person:\n",
    "    def __init__(self, name, age): #Конструктор класса Person\n",
    "        self.__name = name #Атрибут name, приватный атрибут\n",
    "        self.age = age #Атрибут age\n",
    "        self.balance = 0\n",
    "\n",
    "    def give_salary(self, salary = 1000):\n",
    "        self.balance+=salary\n",
    "        print(f\"{self.__name} gets {salary} dollars of salary\")  \n",
    "\n",
    "    def get_name(self):  #функции-геттеры, метод, возвращающий значение приватного атрибута\n",
    "        return self.__name\n",
    "\n",
    "    def set_name(self, name): #функции-сеттеры, метод, изменяющий значение приватного атрибута\n",
    "        if (str(name).isdigit()):\n",
    "            print(\"Please input name, not number\")\n",
    "        else:   \n",
    "            self.__name = name\n",
    "\n",
    "person1 = Person(\"Ivan\", 29)\n",
    "person1.get_name()\n",
    "   "
   ]
  },
  {
   "cell_type": "code",
   "execution_count": 8,
   "id": "817ac324-5394-4cd8-911e-ac29952ff23f",
   "metadata": {},
   "outputs": [],
   "source": [
    "class Animal: # Абстрактный класс\n",
    "    def __init__(self, name):\n",
    "        self.name = name\n",
    "    def make_sound(self):\n",
    "        pass\n",
    "    def info(self):\n",
    "        pass\n",
    "\n",
    "class Dog(Animal):\n",
    "    def __init__(self, name, dog_type):\n",
    "        super().__init__(name)\n",
    "        self.dog_type = dog_type\n",
    "    \n",
    "    def make_sound(self):\n",
    "        print(f\"Dog {self.dog_type} {self.name} says Woof!\")\n",
    "\n",
    "    def info(self):\n",
    "        print(f\"{self.name} is a dog, {self.dog_type}\")\n",
    "\n",
    "\n",
    "class Cat(Animal):\n",
    "    def __init__(self, name, cat_type):\n",
    "        super().__init__(name)            #метод super - вызов перегруженной функции с родительского класса\n",
    "        self.cat_type = cat_type\n",
    "    \n",
    "    def make_sound(self):\n",
    "        print(f\"Cat {self.cat_type} {self.name} says Meew!\")\n",
    "\n",
    "    def info(self):\n",
    "        print(f\"{self.name} is a cat, {self.cat_type}\")\n",
    "\n",
    "\n",
    "class PetStore:\n",
    "    def __init__(self):\n",
    "        self.animals = []\n",
    "\n",
    "    def add_animal(self, animal):\n",
    "        self.animals.append(animal)\n",
    "\n",
    "    def show_all_animals(self):\n",
    "        for animal in self.animals:\n",
    "            animal.info()\n",
    "            animal.make_sound()"
   ]
  },
  {
   "cell_type": "code",
   "execution_count": 9,
   "id": "adacba4b-10a6-454f-a8cc-c5ccfaa1361a",
   "metadata": {
    "scrolled": true
   },
   "outputs": [
    {
     "name": "stdout",
     "output_type": "stream",
     "text": [
      "Dogge is a dog, bulldog\n",
      "Dog bulldog Dogge says Woof!\n",
      "Kitty is a cat, british\n",
      "Cat british Kitty says Meew!\n"
     ]
    }
   ],
   "source": [
    "dog1 = Dog(\"Dogge\", \"bulldog\")\n",
    "cat1 = Cat(\"Kitty\", \"british\")\n",
    "store = PetStore()\n",
    "\n",
    "store.add_animal(dog1)\n",
    "store.add_animal(cat1)\n",
    "\n",
    "store.show_all_animals()"
   ]
  },
  {
   "cell_type": "code",
   "execution_count": 11,
   "id": "085b7c6a-7066-46b8-9bc2-bef44d1938f3",
   "metadata": {
    "scrolled": true
   },
   "outputs": [
    {
     "name": "stdout",
     "output_type": "stream",
     "text": [
      "foo\n",
      "bar\n"
     ]
    }
   ],
   "source": [
    "class A:\n",
    "    def foo(self):\n",
    "        print(\"foo\")\n",
    "\n",
    "class B(A):\n",
    "    def foo(self):\n",
    "        super().foo()\n",
    "        print(\"bar\")\n",
    "\n",
    "obj = B()\n",
    "obj.foo()"
   ]
  },
  {
   "cell_type": "markdown",
   "id": "3cee6c3c-84c3-4e20-a9dc-78d5aca3ef93",
   "metadata": {},
   "source": [
    "**Задание:**\n",
    "Написать программу в стиле ООП, для расчета площади и периметра геометрических фигур.\n",
    "Абстрактный базовый класс Shape, дочерние классы Triangle, Rectangle, Square, Circle.\n",
    "Проследить выполнение полиморфизма методов perimeter(расчет периметр) и area(расчет площади)\n",
    "\n"
   ]
  }
 ],
 "metadata": {
  "kernelspec": {
   "display_name": "Python 3 (ipykernel)",
   "language": "python",
   "name": "python3"
  },
  "language_info": {
   "codemirror_mode": {
    "name": "ipython",
    "version": 3
   },
   "file_extension": ".py",
   "mimetype": "text/x-python",
   "name": "python",
   "nbconvert_exporter": "python",
   "pygments_lexer": "ipython3",
   "version": "3.12.4"
  }
 },
 "nbformat": 4,
 "nbformat_minor": 5
}
